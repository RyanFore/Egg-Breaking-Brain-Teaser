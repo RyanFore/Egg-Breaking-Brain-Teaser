{
 "cells": [
  {
   "cell_type": "markdown",
   "metadata": {
    "collapsed": true
   },
   "source": [
    "The function findDrops accepts as inputs the number of eggs and the number of stories you want to use in the simulation\n",
    "It returns a list, with the first element being a list of the optimum intervals, and the second element being the number of drops needed in the worst case\n",
    "\n",
    "The function behaves recursively, following these rules:\n",
    "\n",
    "If there are enough eggs relative to number of stories to use a binary search, then return a nonsense interval (Unless the setup of the problem allows binary search from the start, this will only be called in non-optimal solution paths)\n",
    "\n",
    "If the number of eggs left is 0 or less, something wrong happened\n",
    "\n",
    "If the number of eggs = 1, you have to do a consecutive search through the number of stories passed in, resulting in a worse case scenario of numStories-1\n",
    "\n",
    "If the number of eggs is 2 or more\n",
    "    -Test every possible interval from 1 to numStories/2 (at which point you'd be doing a binary search)\n",
    "    \n",
    "    -For each interval, call the function itself to find the minimum number of drops required by each interval choice\n",
    "    \n",
    "    -Store this information in the df drops, where interval is the index, numDrops is the minimum number of drops for that   interval, and intervalList is the list of the sub-interval sizes obtained from the recursion (Not explained well, I know)\n",
    "\n",
    "Find the interval that results in the minimum number of drops, returning it along with the interval size choices that lead to that outcome\n"
   ]
  },
  {
   "cell_type": "code",
   "execution_count": null,
   "metadata": {},
   "outputs": [],
   "source": [
    "import pandas as pd\n",
    "import math\n",
    "\n",
    "def findDrops(numEggs, numStories):\n",
    "    if 2** numEggs >= numStories:\n",
    "        return [[24816], math.log(numStories,2)]\n",
    "    if numEggs<=0:\n",
    "        return 10000000000000\n",
    "    elif numEggs ==1:\n",
    "        return [[1], numStories-1]\n",
    "    else:\n",
    "        drops = pd.DataFrame(index=range(1, int(numStories/2)), columns=['intervalList', 'numDrops'])\n",
    "        for interval in range(1, int(numStories/2)):\n",
    "            testing = findDrops(numEggs-1, interval)\n",
    "            drops.loc[interval] = (testing[0], float(numStories/interval + testing[1]))\n",
    "        drops['numDrops'] = pd.to_numeric(drops['numDrops'])\n",
    "        minIndex = drops['numDrops'].idxmin()\n",
    "        iList = drops.loc[minIndex]['intervalList']\n",
    "        return [[minIndex]+iList, drops['numDrops'].min()]\n",
    "\n",
    "eggs = input('Number of Eggs: ')\n",
    "stories = input('Number of Stories: ')\n",
    "intEggs = int(eggs)\n",
    "intStories = int(stories)\n",
    "results = findDrops(intEggs, intStories)\n",
    "intervals = results[0]\n",
    "print(\"Interval Sizes: \" + str(intervals))\n",
    "print(\"Number of Drops (Worst Case): \" + str(math.ceil(results[1])))\n",
    "\n",
    "for i in range(1, len(intervals)):\n",
    "    calculatedInt = intStories ** ((intEggs-i)/intEggs)\n",
    "    print(stories + \"^(\" + eggs + \"-\" + str(i) +\")/\" + eggs +\" = \" + str(calculatedInt))\n",
    "\n"
   ]
  }
 ],
 "metadata": {
  "kernelspec": {
   "display_name": "Python 3",
   "language": "python",
   "name": "python3"
  },
  "language_info": {
   "codemirror_mode": {
    "name": "ipython",
    "version": 3
   },
   "file_extension": ".py",
   "mimetype": "text/x-python",
   "name": "python",
   "nbconvert_exporter": "python",
   "pygments_lexer": "ipython3",
   "version": "3.6.4"
  }
 },
 "nbformat": 4,
 "nbformat_minor": 1
}
